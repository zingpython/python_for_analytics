{
 "cells": [
  {
   "cell_type": "markdown",
   "metadata": {},
   "source": [
    "# logarithmic return"
   ]
  },
  {
   "cell_type": "code",
   "execution_count": 1,
   "metadata": {
    "collapsed": false
   },
   "outputs": [],
   "source": [
    "import pandas as pd\n",
    "import numpy as np\n",
    "import datetime\n",
    "# matplotlib.use('Agg') \n",
    "import matplotlib.pyplot as plt\n",
    "from datetime import date\n",
    "import pandas_datareader.data as web\n",
    "# %matplotlib inline"
   ]
  },
  {
   "cell_type": "code",
   "execution_count": 2,
   "metadata": {
    "collapsed": true
   },
   "outputs": [],
   "source": [
    "start = date(2015, 1, 1)\n",
    "\n",
    "end = date.today()"
   ]
  },
  {
   "cell_type": "code",
   "execution_count": 3,
   "metadata": {
    "collapsed": false
   },
   "outputs": [
    {
     "name": "stdout",
     "output_type": "stream",
     "text": [
      "<class 'pandas.core.frame.DataFrame'>\n",
      "DatetimeIndex: 539 entries, 2015-01-02 to 2017-02-22\n",
      "Data columns (total 6 columns):\n",
      "Open         539 non-null float64\n",
      "High         539 non-null float64\n",
      "Low          539 non-null float64\n",
      "Close        539 non-null float64\n",
      "Volume       539 non-null int64\n",
      "Adj Close    539 non-null float64\n",
      "dtypes: float64(5), int64(1)\n",
      "memory usage: 29.5 KB\n"
     ]
    },
    {
     "data": {
      "text/html": [
       "<div>\n",
       "<table border=\"1\" class=\"dataframe\">\n",
       "  <thead>\n",
       "    <tr style=\"text-align: right;\">\n",
       "      <th></th>\n",
       "      <th>Open</th>\n",
       "      <th>High</th>\n",
       "      <th>Low</th>\n",
       "      <th>Close</th>\n",
       "      <th>Volume</th>\n",
       "      <th>Adj Close</th>\n",
       "    </tr>\n",
       "    <tr>\n",
       "      <th>Date</th>\n",
       "      <th></th>\n",
       "      <th></th>\n",
       "      <th></th>\n",
       "      <th></th>\n",
       "      <th></th>\n",
       "      <th></th>\n",
       "    </tr>\n",
       "  </thead>\n",
       "  <tbody>\n",
       "    <tr>\n",
       "      <th>2017-02-15</th>\n",
       "      <td>16.850000</td>\n",
       "      <td>16.889999</td>\n",
       "      <td>16.299999</td>\n",
       "      <td>16.740000</td>\n",
       "      <td>35072600</td>\n",
       "      <td>16.740000</td>\n",
       "    </tr>\n",
       "    <tr>\n",
       "      <th>2017-02-16</th>\n",
       "      <td>16.690001</td>\n",
       "      <td>16.790001</td>\n",
       "      <td>16.320000</td>\n",
       "      <td>16.350000</td>\n",
       "      <td>21465000</td>\n",
       "      <td>16.350000</td>\n",
       "    </tr>\n",
       "    <tr>\n",
       "      <th>2017-02-17</th>\n",
       "      <td>16.360001</td>\n",
       "      <td>16.629999</td>\n",
       "      <td>16.360001</td>\n",
       "      <td>16.620001</td>\n",
       "      <td>14346600</td>\n",
       "      <td>16.620001</td>\n",
       "    </tr>\n",
       "    <tr>\n",
       "      <th>2017-02-21</th>\n",
       "      <td>16.639999</td>\n",
       "      <td>16.690001</td>\n",
       "      <td>16.299999</td>\n",
       "      <td>16.420000</td>\n",
       "      <td>15931900</td>\n",
       "      <td>16.420000</td>\n",
       "    </tr>\n",
       "    <tr>\n",
       "      <th>2017-02-22</th>\n",
       "      <td>16.400000</td>\n",
       "      <td>16.510000</td>\n",
       "      <td>16.010000</td>\n",
       "      <td>16.080000</td>\n",
       "      <td>13537500</td>\n",
       "      <td>16.080000</td>\n",
       "    </tr>\n",
       "  </tbody>\n",
       "</table>\n",
       "</div>"
      ],
      "text/plain": [
       "                 Open       High        Low      Close    Volume  Adj Close\n",
       "Date                                                                       \n",
       "2017-02-15  16.850000  16.889999  16.299999  16.740000  35072600  16.740000\n",
       "2017-02-16  16.690001  16.790001  16.320000  16.350000  21465000  16.350000\n",
       "2017-02-17  16.360001  16.629999  16.360001  16.620001  14346600  16.620001\n",
       "2017-02-21  16.639999  16.690001  16.299999  16.420000  15931900  16.420000\n",
       "2017-02-22  16.400000  16.510000  16.010000  16.080000  13537500  16.080000"
      ]
     },
     "execution_count": 3,
     "metadata": {},
     "output_type": "execute_result"
    }
   ],
   "source": [
    "stock = web.DataReader(\"TWTR\", 'yahoo', start, end)\n",
    "stock.info()\n",
    "stock.tail()\n"
   ]
  },
  {
   "cell_type": "code",
   "execution_count": 4,
   "metadata": {
    "collapsed": false
   },
   "outputs": [],
   "source": [
    "stock[\"Return\"] = 0.0\n"
   ]
  },
  {
   "cell_type": "code",
   "execution_count": 5,
   "metadata": {
    "collapsed": false
   },
   "outputs": [
    {
     "data": {
      "text/html": [
       "<div>\n",
       "<table border=\"1\" class=\"dataframe\">\n",
       "  <thead>\n",
       "    <tr style=\"text-align: right;\">\n",
       "      <th></th>\n",
       "      <th>Open</th>\n",
       "      <th>High</th>\n",
       "      <th>Low</th>\n",
       "      <th>Close</th>\n",
       "      <th>Volume</th>\n",
       "      <th>Adj Close</th>\n",
       "      <th>Return</th>\n",
       "    </tr>\n",
       "    <tr>\n",
       "      <th>Date</th>\n",
       "      <th></th>\n",
       "      <th></th>\n",
       "      <th></th>\n",
       "      <th></th>\n",
       "      <th></th>\n",
       "      <th></th>\n",
       "      <th></th>\n",
       "    </tr>\n",
       "  </thead>\n",
       "  <tbody>\n",
       "    <tr>\n",
       "      <th>2017-02-15</th>\n",
       "      <td>16.850000</td>\n",
       "      <td>16.889999</td>\n",
       "      <td>16.299999</td>\n",
       "      <td>16.740000</td>\n",
       "      <td>35072600</td>\n",
       "      <td>16.740000</td>\n",
       "      <td>0.0</td>\n",
       "    </tr>\n",
       "    <tr>\n",
       "      <th>2017-02-16</th>\n",
       "      <td>16.690001</td>\n",
       "      <td>16.790001</td>\n",
       "      <td>16.320000</td>\n",
       "      <td>16.350000</td>\n",
       "      <td>21465000</td>\n",
       "      <td>16.350000</td>\n",
       "      <td>0.0</td>\n",
       "    </tr>\n",
       "    <tr>\n",
       "      <th>2017-02-17</th>\n",
       "      <td>16.360001</td>\n",
       "      <td>16.629999</td>\n",
       "      <td>16.360001</td>\n",
       "      <td>16.620001</td>\n",
       "      <td>14346600</td>\n",
       "      <td>16.620001</td>\n",
       "      <td>0.0</td>\n",
       "    </tr>\n",
       "    <tr>\n",
       "      <th>2017-02-21</th>\n",
       "      <td>16.639999</td>\n",
       "      <td>16.690001</td>\n",
       "      <td>16.299999</td>\n",
       "      <td>16.420000</td>\n",
       "      <td>15931900</td>\n",
       "      <td>16.420000</td>\n",
       "      <td>0.0</td>\n",
       "    </tr>\n",
       "    <tr>\n",
       "      <th>2017-02-22</th>\n",
       "      <td>16.400000</td>\n",
       "      <td>16.510000</td>\n",
       "      <td>16.010000</td>\n",
       "      <td>16.080000</td>\n",
       "      <td>13537500</td>\n",
       "      <td>16.080000</td>\n",
       "      <td>0.0</td>\n",
       "    </tr>\n",
       "  </tbody>\n",
       "</table>\n",
       "</div>"
      ],
      "text/plain": [
       "                 Open       High        Low      Close    Volume  Adj Close  \\\n",
       "Date                                                                          \n",
       "2017-02-15  16.850000  16.889999  16.299999  16.740000  35072600  16.740000   \n",
       "2017-02-16  16.690001  16.790001  16.320000  16.350000  21465000  16.350000   \n",
       "2017-02-17  16.360001  16.629999  16.360001  16.620001  14346600  16.620001   \n",
       "2017-02-21  16.639999  16.690001  16.299999  16.420000  15931900  16.420000   \n",
       "2017-02-22  16.400000  16.510000  16.010000  16.080000  13537500  16.080000   \n",
       "\n",
       "            Return  \n",
       "Date                \n",
       "2017-02-15     0.0  \n",
       "2017-02-16     0.0  \n",
       "2017-02-17     0.0  \n",
       "2017-02-21     0.0  \n",
       "2017-02-22     0.0  "
      ]
     },
     "execution_count": 5,
     "metadata": {},
     "output_type": "execute_result"
    }
   ],
   "source": [
    "stock.tail()"
   ]
  },
  {
   "cell_type": "code",
   "execution_count": 15,
   "metadata": {
    "collapsed": false
   },
   "outputs": [],
   "source": [
    "stock['Return'] = np.log(stock['Adj Close']/stock['Adj Close'].shift(1))"
   ]
  },
  {
   "cell_type": "code",
   "execution_count": 16,
   "metadata": {
    "collapsed": false
   },
   "outputs": [
    {
     "data": {
      "text/html": [
       "<div>\n",
       "<table border=\"1\" class=\"dataframe\">\n",
       "  <thead>\n",
       "    <tr style=\"text-align: right;\">\n",
       "      <th></th>\n",
       "      <th>Adj Close</th>\n",
       "      <th>Return</th>\n",
       "    </tr>\n",
       "    <tr>\n",
       "      <th>Date</th>\n",
       "      <th></th>\n",
       "      <th></th>\n",
       "    </tr>\n",
       "  </thead>\n",
       "  <tbody>\n",
       "    <tr>\n",
       "      <th>2017-02-14</th>\n",
       "      <td>16.520000</td>\n",
       "      <td>0.043929</td>\n",
       "    </tr>\n",
       "    <tr>\n",
       "      <th>2017-02-15</th>\n",
       "      <td>16.740000</td>\n",
       "      <td>0.013229</td>\n",
       "    </tr>\n",
       "    <tr>\n",
       "      <th>2017-02-16</th>\n",
       "      <td>16.350000</td>\n",
       "      <td>-0.023573</td>\n",
       "    </tr>\n",
       "    <tr>\n",
       "      <th>2017-02-17</th>\n",
       "      <td>16.620001</td>\n",
       "      <td>0.016379</td>\n",
       "    </tr>\n",
       "    <tr>\n",
       "      <th>2017-02-21</th>\n",
       "      <td>16.420000</td>\n",
       "      <td>-0.012107</td>\n",
       "    </tr>\n",
       "  </tbody>\n",
       "</table>\n",
       "</div>"
      ],
      "text/plain": [
       "            Adj Close    Return\n",
       "Date                           \n",
       "2017-02-14  16.520000  0.043929\n",
       "2017-02-15  16.740000  0.013229\n",
       "2017-02-16  16.350000 -0.023573\n",
       "2017-02-17  16.620001  0.016379\n",
       "2017-02-21  16.420000 -0.012107"
      ]
     },
     "execution_count": 16,
     "metadata": {},
     "output_type": "execute_result"
    }
   ],
   "source": [
    "stock[[\"Adj Close\", \"Return\"]].tail()"
   ]
  },
  {
   "cell_type": "code",
   "execution_count": 21,
   "metadata": {
    "collapsed": false
   },
   "outputs": [],
   "source": [
    "stock[\"Adj Close\"].plot(grid=True, figsize=(8,5))\n",
    "plt.show()"
   ]
  },
  {
   "cell_type": "code",
   "execution_count": null,
   "metadata": {
    "collapsed": true
   },
   "outputs": [],
   "source": []
  }
 ],
 "metadata": {
  "anaconda-cloud": {},
  "kernelspec": {
   "display_name": "Python [default]",
   "language": "python",
   "name": "python3"
  },
  "language_info": {
   "codemirror_mode": {
    "name": "ipython",
    "version": 3
   },
   "file_extension": ".py",
   "mimetype": "text/x-python",
   "name": "python",
   "nbconvert_exporter": "python",
   "pygments_lexer": "ipython3",
   "version": "3.5.2"
  }
 },
 "nbformat": 4,
 "nbformat_minor": 0
}
